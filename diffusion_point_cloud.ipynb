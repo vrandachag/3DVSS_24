{
  "nbformat": 4,
  "nbformat_minor": 0,
  "metadata": {
    "colab": {
      "provenance": [],
      "gpuType": "T4",
      "include_colab_link": true
    },
    "kernelspec": {
      "name": "python3",
      "display_name": "Python 3"
    },
    "language_info": {
      "name": "python"
    },
    "accelerator": "GPU"
  },
  "cells": [
    {
      "cell_type": "markdown",
      "metadata": {
        "id": "view-in-github",
        "colab_type": "text"
      },
      "source": [
        "<a href=\"https://colab.research.google.com/github/vrandachag/3DVSS_24/blob/main/diffusion_point_cloud.ipynb\" target=\"_parent\"><img src=\"https://colab.research.google.com/assets/colab-badge.svg\" alt=\"Open In Colab\"/></a>"
      ]
    },
    {
      "cell_type": "code",
      "source": [
        "!pip install trimesh"
      ],
      "metadata": {
        "colab": {
          "base_uri": "https://localhost:8080/"
        },
        "id": "CWUahu8DkiQc",
        "outputId": "69e8f8b6-133f-4474-df49-48af398100bf"
      },
      "execution_count": null,
      "outputs": [
        {
          "output_type": "stream",
          "name": "stdout",
          "text": [
            "Collecting trimesh\n",
            "  Downloading trimesh-4.4.0-py3-none-any.whl (694 kB)\n",
            "\u001b[2K     \u001b[90m━━━━━━━━━━━━━━━━━━━━━━━━━━━━━━━━━━━━━━━━\u001b[0m \u001b[32m694.6/694.6 kB\u001b[0m \u001b[31m13.2 MB/s\u001b[0m eta \u001b[36m0:00:00\u001b[0m\n",
            "\u001b[?25hRequirement already satisfied: numpy>=1.20 in /usr/local/lib/python3.10/dist-packages (from trimesh) (1.25.2)\n",
            "Installing collected packages: trimesh\n",
            "Successfully installed trimesh-4.4.0\n"
          ]
        }
      ]
    },
    {
      "cell_type": "code",
      "execution_count": null,
      "metadata": {
        "colab": {
          "base_uri": "https://localhost:8080/"
        },
        "id": "Ejb4m1k52mZ-",
        "outputId": "4274021a-fe38-4ffb-d84d-395a1976f57f"
      },
      "outputs": [
        {
          "output_type": "stream",
          "name": "stdout",
          "text": [
            "Cloning into 'diffusion-point-cloud'...\n",
            "remote: Enumerating objects: 145, done.\u001b[K\n",
            "remote: Counting objects: 100% (53/53), done.\u001b[K\n",
            "remote: Compressing objects: 100% (29/29), done.\u001b[K\n",
            "remote: Total 145 (delta 32), reused 24 (delta 24), pack-reused 92\u001b[K\n",
            "Receiving objects: 100% (145/145), 433.17 KiB | 1.58 MiB/s, done.\n",
            "Resolving deltas: 100% (53/53), done.\n"
          ]
        }
      ],
      "source": [
        "!git clone https://github.com/luost26/diffusion-point-cloud.git"
      ]
    },
    {
      "cell_type": "code",
      "source": [
        "%cd /content/diffusion-point-cloud/data\n",
        "!gdown 1WdooIyOMVt_HVd_A0QOM9DTTX41O65jQ"
      ],
      "metadata": {
        "id": "5IQ1tXUP2nnU",
        "colab": {
          "base_uri": "https://localhost:8080/"
        },
        "outputId": "726ddc5c-c20c-45c9-a28f-d02253abd19e"
      },
      "execution_count": null,
      "outputs": [
        {
          "output_type": "stream",
          "name": "stdout",
          "text": [
            "/content/diffusion-point-cloud/data\n",
            "Downloading...\n",
            "From (original): https://drive.google.com/uc?id=1WdooIyOMVt_HVd_A0QOM9DTTX41O65jQ\n",
            "From (redirected): https://drive.google.com/uc?id=1WdooIyOMVt_HVd_A0QOM9DTTX41O65jQ&confirm=t&uuid=ee36ef60-c136-43f4-ac19-a19daf999491\n",
            "To: /content/diffusion-point-cloud/data/shapenet.hdf5\n",
            "100% 1.45G/1.45G [00:25<00:00, 57.6MB/s]\n"
          ]
        }
      ]
    },
    {
      "cell_type": "code",
      "source": [
        "%cd /content/diffusion-point-cloud/pretrained\n",
        "!gdown 1qXtJCOevgdyhxwllJ5G4e7ZGH0sFsDXF\n"
      ],
      "metadata": {
        "id": "pz9JMBIA22MK",
        "colab": {
          "base_uri": "https://localhost:8080/"
        },
        "outputId": "73a85e3d-d5ce-42af-9fc2-bb6df57a6b25"
      },
      "execution_count": null,
      "outputs": [
        {
          "output_type": "stream",
          "name": "stdout",
          "text": [
            "/content/diffusion-point-cloud/pretrained\n",
            "Downloading...\n",
            "From: https://drive.google.com/uc?id=1qXtJCOevgdyhxwllJ5G4e7ZGH0sFsDXF\n",
            "To: /content/diffusion-point-cloud/pretrained/GEN_chair.pt\n",
            "100% 46.7M/46.7M [00:00<00:00, 78.5MB/s]\n"
          ]
        }
      ]
    },
    {
      "cell_type": "code",
      "source": [
        "%cd /content/diffusion-point-cloud/\n",
        "!python test_gen.py --ckpt ./pretrained/GEN_chair.pt --categories chair"
      ],
      "metadata": {
        "colab": {
          "base_uri": "https://localhost:8080/"
        },
        "id": "DsXOaPg03tVF",
        "outputId": "cd91d0ec-dbdd-4ad2-9833-7d9b92660ec7"
      },
      "execution_count": null,
      "outputs": [
        {
          "output_type": "stream",
          "name": "stdout",
          "text": [
            "/content/diffusion-point-cloud\n",
            "[2024-05-31 16:51:07,325::test::INFO] [ARGS::ckpt] './pretrained/GEN_chair.pt'\n",
            "[2024-05-31 16:51:07,325::test::INFO] [ARGS::categories] ['chair']\n",
            "[2024-05-31 16:51:07,325::test::INFO] [ARGS::save_dir] './results'\n",
            "[2024-05-31 16:51:07,325::test::INFO] [ARGS::device] 'cuda'\n",
            "[2024-05-31 16:51:07,325::test::INFO] [ARGS::dataset_path] './data/shapenet.hdf5'\n",
            "[2024-05-31 16:51:07,325::test::INFO] [ARGS::batch_size] 128\n",
            "[2024-05-31 16:51:07,325::test::INFO] [ARGS::sample_num_points] 2048\n",
            "[2024-05-31 16:51:07,325::test::INFO] [ARGS::normalize] 'shape_bbox'\n",
            "[2024-05-31 16:51:07,325::test::INFO] [ARGS::seed] 9988\n",
            "[2024-05-31 16:51:07,551::test::INFO] Loading datasets...\n",
            "[2024-05-31 16:51:07,701::test::INFO] Loading model...\n",
            "[2024-05-31 16:51:07,763::test::INFO] FlowVAE(\n",
            "  (encoder): PointNetEncoder(\n",
            "    (conv1): Conv1d(3, 128, kernel_size=(1,), stride=(1,))\n",
            "    (conv2): Conv1d(128, 128, kernel_size=(1,), stride=(1,))\n",
            "    (conv3): Conv1d(128, 256, kernel_size=(1,), stride=(1,))\n",
            "    (conv4): Conv1d(256, 512, kernel_size=(1,), stride=(1,))\n",
            "    (bn1): BatchNorm1d(128, eps=1e-05, momentum=0.1, affine=True, track_running_stats=True)\n",
            "    (bn2): BatchNorm1d(128, eps=1e-05, momentum=0.1, affine=True, track_running_stats=True)\n",
            "    (bn3): BatchNorm1d(256, eps=1e-05, momentum=0.1, affine=True, track_running_stats=True)\n",
            "    (bn4): BatchNorm1d(512, eps=1e-05, momentum=0.1, affine=True, track_running_stats=True)\n",
            "    (fc1_m): Linear(in_features=512, out_features=256, bias=True)\n",
            "    (fc2_m): Linear(in_features=256, out_features=128, bias=True)\n",
            "    (fc3_m): Linear(in_features=128, out_features=256, bias=True)\n",
            "    (fc_bn1_m): BatchNorm1d(256, eps=1e-05, momentum=0.1, affine=True, track_running_stats=True)\n",
            "    (fc_bn2_m): BatchNorm1d(128, eps=1e-05, momentum=0.1, affine=True, track_running_stats=True)\n",
            "    (fc1_v): Linear(in_features=512, out_features=256, bias=True)\n",
            "    (fc2_v): Linear(in_features=256, out_features=128, bias=True)\n",
            "    (fc3_v): Linear(in_features=128, out_features=256, bias=True)\n",
            "    (fc_bn1_v): BatchNorm1d(256, eps=1e-05, momentum=0.1, affine=True, track_running_stats=True)\n",
            "    (fc_bn2_v): BatchNorm1d(128, eps=1e-05, momentum=0.1, affine=True, track_running_stats=True)\n",
            "  )\n",
            "  (flow): SequentialFlow(\n",
            "    (chain): ModuleList(\n",
            "      (0-13): 14 x CouplingLayer(\n",
            "        (net_s_t): Sequential(\n",
            "          (0): Linear(in_features=128, out_features=256, bias=True)\n",
            "          (1): ReLU(inplace=True)\n",
            "          (2): Linear(in_features=256, out_features=256, bias=True)\n",
            "          (3): ReLU(inplace=True)\n",
            "          (4): Linear(in_features=256, out_features=256, bias=True)\n",
            "        )\n",
            "      )\n",
            "    )\n",
            "  )\n",
            "  (diffusion): DiffusionPoint(\n",
            "    (net): PointwiseNet(\n",
            "      (layers): ModuleList(\n",
            "        (0): ConcatSquashLinear(\n",
            "          (_layer): Linear(in_features=3, out_features=128, bias=True)\n",
            "          (_hyper_bias): Linear(in_features=259, out_features=128, bias=False)\n",
            "          (_hyper_gate): Linear(in_features=259, out_features=128, bias=True)\n",
            "        )\n",
            "        (1): ConcatSquashLinear(\n",
            "          (_layer): Linear(in_features=128, out_features=256, bias=True)\n",
            "          (_hyper_bias): Linear(in_features=259, out_features=256, bias=False)\n",
            "          (_hyper_gate): Linear(in_features=259, out_features=256, bias=True)\n",
            "        )\n",
            "        (2): ConcatSquashLinear(\n",
            "          (_layer): Linear(in_features=256, out_features=512, bias=True)\n",
            "          (_hyper_bias): Linear(in_features=259, out_features=512, bias=False)\n",
            "          (_hyper_gate): Linear(in_features=259, out_features=512, bias=True)\n",
            "        )\n",
            "        (3): ConcatSquashLinear(\n",
            "          (_layer): Linear(in_features=512, out_features=256, bias=True)\n",
            "          (_hyper_bias): Linear(in_features=259, out_features=256, bias=False)\n",
            "          (_hyper_gate): Linear(in_features=259, out_features=256, bias=True)\n",
            "        )\n",
            "        (4): ConcatSquashLinear(\n",
            "          (_layer): Linear(in_features=256, out_features=128, bias=True)\n",
            "          (_hyper_bias): Linear(in_features=259, out_features=128, bias=False)\n",
            "          (_hyper_gate): Linear(in_features=259, out_features=128, bias=True)\n",
            "        )\n",
            "        (5): ConcatSquashLinear(\n",
            "          (_layer): Linear(in_features=128, out_features=3, bias=True)\n",
            "          (_hyper_bias): Linear(in_features=259, out_features=3, bias=False)\n",
            "          (_hyper_gate): Linear(in_features=259, out_features=3, bias=True)\n",
            "        )\n",
            "      )\n",
            "    )\n",
            "    (var_sched): VarianceSchedule()\n",
            "  )\n",
            ")\n",
            "Generate: 100% 8/8 [01:10<00:00,  8.84s/it]\n",
            "[2024-05-31 16:52:18,546::test::INFO] Normalization mode: shape_bbox\n",
            "Normalize: 100% 989/989 [00:00<00:00, 11246.58it/s]\n",
            "[2024-05-31 16:52:18,635::test::INFO] Saving point clouds...\n"
          ]
        }
      ]
    },
    {
      "cell_type": "code",
      "source": [
        "import numpy as np\n",
        "import trimesh"
      ],
      "metadata": {
        "id": "L8Y9pd9333oD"
      },
      "execution_count": null,
      "outputs": []
    },
    {
      "cell_type": "code",
      "source": [
        "gen_pc = np.load('/content/diffusion-point-cloud/results/GEN_Ours_chair_1717174267/out.npy')"
      ],
      "metadata": {
        "id": "JnlVXHaB6OU2"
      },
      "execution_count": null,
      "outputs": []
    },
    {
      "cell_type": "code",
      "source": [
        "for i in range(0,5):\n",
        "  points = gen_pc[i]\n",
        "  pcd = trimesh.PointCloud(points)\n",
        "  _ = pcd.export(f'pcd_{i}.ply')"
      ],
      "metadata": {
        "id": "qStun3cp6TCs"
      },
      "execution_count": null,
      "outputs": []
    },
    {
      "cell_type": "code",
      "source": [],
      "metadata": {
        "id": "GLru510Q6T7a"
      },
      "execution_count": null,
      "outputs": []
    },
    {
      "cell_type": "code",
      "source": [],
      "metadata": {
        "id": "4pm3gTVrkq9O"
      },
      "execution_count": null,
      "outputs": []
    }
  ]
}